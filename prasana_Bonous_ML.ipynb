{
  "cells": [
    {
      "cell_type": "markdown",
      "metadata": {
        "id": "d7NkTapgu-Az"
      },
      "source": [
        "# **1. Decision Tree**"
      ]
    },
    {
      "cell_type": "code",
      "execution_count": null,
      "metadata": {
        "id": "B3DUmKuEvB9G"
      },
      "outputs": [],
      "source": [
        "from sklearn.datasets import make_moons\n",
        "from sklearn.model_selection import train_test_split, GridSearchCV\n",
        "from sklearn.tree import DecisionTreeClassifier\n",
        "from sklearn.metrics import accuracy_score"
      ]
    },
    {
      "cell_type": "code",
      "execution_count": null,
      "metadata": {
        "colab": {
          "base_uri": "https://localhost:8080/"
        },
        "id": "-6cCqhwPuySN",
        "outputId": "7077d816-a925-4e27-cc04-e0578088c8e5"
      },
      "outputs": [
        {
          "name": "stdout",
          "output_type": "stream",
          "text": [
            "Accuracy of the Decision Tree classifier: 0.87\n"
          ]
        }
      ],
      "source": [
        "\n",
        "#  Generate moons dataset with samples\n",
        "X, y = make_moons(n_samples=10000, noise=0.4, random_state=42)\n",
        "\n",
        "# Here  Split dataset into training and testing sets\n",
        "X_train, X_test, y_train, y_test = train_test_split(X, y, test_size=0.2, random_state=42)\n",
        "\n",
        "# Grid search for hyperparameter tuning\n",
        "param_grid = {'max_leaf_nodes': [None, 5, 10, 15, 20]}  # Define hyperparameters to search\n",
        "tree_clf = DecisionTreeClassifier(random_state=42)\n",
        "grid_search = GridSearchCV(tree_clf, param_grid, cv=5, scoring='accuracy')\n",
        "grid_search.fit(X_train, y_train)\n",
        "\n",
        "# Here Best hyperparameters\n",
        "best_params = grid_search.best_params_\n",
        "\n",
        "# Here  Train model on full training set using best hyperparameters\n",
        "best_tree_clf = DecisionTreeClassifier(max_leaf_nodes=best_params['max_leaf_nodes'], random_state=42)\n",
        "best_tree_clf.fit(X_train, y_train)\n",
        "\n",
        "# Measuring the model's performance on test set\n",
        "y_pred = best_tree_clf.predict(X_test)\n",
        "accuracy = accuracy_score(y_test, y_pred)\n",
        "print(f\"Accuracy of the Decision Tree classifier: {accuracy:.2f}\")\n"
      ]
    },
    {
      "cell_type": "code",
      "execution_count": null,
      "metadata": {
        "id": "nANn8AjAvfIw"
      },
      "outputs": [],
      "source": []
    },
    {
      "cell_type": "markdown",
      "metadata": {
        "id": "GUvbz7YdwH72"
      },
      "source": [
        "**2**"
      ]
    },
    {
      "cell_type": "code",
      "execution_count": null,
      "metadata": {
        "id": "cJJH5rCIwI9-"
      },
      "outputs": [],
      "source": [
        "import numpy as np\n",
        "from scipy.stats import mode\n",
        "from sklearn.model_selection import ShuffleSplit\n",
        "from sklearn.base import clone\n"
      ]
    },
    {
      "cell_type": "code",
      "execution_count": null,
      "metadata": {
        "colab": {
          "base_uri": "https://localhost:8080/"
        },
        "id": "5iHnBHLgwLwd",
        "outputId": "b423481a-514c-443d-c2ad-4457963a3ed0"
      },
      "outputs": [
        {
          "name": "stdout",
          "output_type": "stream",
          "text": [
            "Mean accuracy of individual Decision Trees: 0.8012\n",
            "Accuracy of Random Forest classifier: 0.8720\n"
          ]
        }
      ],
      "source": [
        "\n",
        "# Generate subsets of the training set\n",
        "n_trees = 1000\n",
        "n_instances = 100\n",
        "rs = ShuffleSplit(n_splits=n_trees, test_size=len(X_train) - n_instances, random_state=42)\n",
        "mini_sets = []\n",
        "\n",
        "for mini_train_index, _ in rs.split(X_train):\n",
        "    X_mini_train = X_train[mini_train_index]\n",
        "    y_mini_train = y_train[mini_train_index]\n",
        "    mini_sets.append((X_mini_train, y_mini_train))\n",
        "\n",
        "# Training Decision Trees on each subset\n",
        "forest = [clone(best_tree_clf) for _ in range(n_trees)]\n",
        "accuracy_scores = []\n",
        "\n",
        "for tree, (X_mini_train, y_mini_train) in zip(forest, mini_sets):\n",
        "    tree.fit(X_mini_train, y_mini_train)\n",
        "    y_pred = tree.predict(X_test)\n",
        "    accuracy = accuracy_score(y_test, y_pred)\n",
        "    accuracy_scores.append(accuracy)\n",
        "\n",
        "print(f\"Mean accuracy of individual Decision Trees: {np.mean(accuracy_scores):.4f}\")\n",
        "\n",
        "# Here Generate majority-vote predictions\n",
        "Y_pred = np.empty([n_trees, len(X_test)], dtype=np.uint8)\n",
        "\n",
        "for tree_index, tree in enumerate(forest):\n",
        "    Y_pred[tree_index] = tree.predict(X_test)\n",
        "\n",
        "y_pred_majority_votes, _ = mode(Y_pred, axis=0)\n",
        "\n",
        "# Evaluating the majority-vote predictions on test set\n",
        "accuracy_majority_votes = accuracy_score(y_test, y_pred_majority_votes.reshape([-1]))\n",
        "print(f\"Accuracy of Random Forest classifier: {accuracy_majority_votes:.4f}\")\n"
      ]
    },
    {
      "cell_type": "code",
      "execution_count": null,
      "metadata": {
        "id": "qshWy_ImwyK1"
      },
      "outputs": [],
      "source": []
    },
    {
      "cell_type": "markdown",
      "metadata": {
        "id": "U4OENPDWxOjK"
      },
      "source": [
        "**3. MNIST**"
      ]
    },
    {
      "cell_type": "code",
      "execution_count": 1,
      "metadata": {
        "id": "hx6U6yIYyEtj"
      },
      "outputs": [],
      "source": [
        "import numpy as np\n",
        "from sklearn.datasets import fetch_openml\n",
        "from sklearn.model_selection import train_test_split\n",
        "from sklearn.ensemble import RandomForestClassifier, ExtraTreesClassifier, VotingClassifier\n",
        "from sklearn.svm import SVC\n",
        "from sklearn.metrics import accuracy_score"
      ]
    },
    {
      "cell_type": "code",
      "execution_count": 2,
      "metadata": {
        "colab": {
          "base_uri": "https://localhost:8080/"
        },
        "id": "jGdPolY5yJeu",
        "outputId": "7dbbd396-785d-4202-e9b6-2fb9d000ddfe"
      },
      "outputs": [
        {
          "output_type": "stream",
          "name": "stderr",
          "text": [
            "/usr/local/lib/python3.10/dist-packages/sklearn/datasets/_openml.py:968: FutureWarning: The default value of `parser` will change from `'liac-arff'` to `'auto'` in 1.4. You can set `parser='auto'` to silence this warning. Therefore, an `ImportError` will be raised from 1.4 if the dataset is dense and pandas is not installed. Note that the pandas parser may return different data types. See the Notes Section in fetch_openml's API doc for details.\n",
            "  warn(\n"
          ]
        }
      ],
      "source": [
        "\n",
        "# Load MNIST dataset\n",
        "mnist = fetch_openml('mnist_784', version=1)\n",
        "X, y = mnist['data'], mnist['target']\n",
        "X = X.astype(np.uint8)\n",
        "y = y.astype(np.uint8)\n"
      ]
    },
    {
      "cell_type": "code",
      "execution_count": 3,
      "metadata": {
        "id": "wD013LpPz1Tv"
      },
      "outputs": [],
      "source": [
        "# Split data into training, validation, and test sets\n",
        "X_train_val, X_test, y_train_val, y_test = train_test_split(X, y, test_size=10000, random_state=42)\n",
        "X_train, X_val, y_train, y_val = train_test_split(X_train_val, y_train_val, test_size=10000, random_state=42)"
      ]
    },
    {
      "cell_type": "code",
      "execution_count": 4,
      "metadata": {
        "id": "GkGo4KIFz3nQ"
      },
      "outputs": [],
      "source": [
        "\n",
        "# Initialize classifiers\n",
        "rf_clf = RandomForestClassifier(n_estimators=100, random_state=42)\n",
        "et_clf = ExtraTreesClassifier(n_estimators=100, random_state=42)\n",
        "svm_clf = SVC(kernel='rbf', probability=True, random_state=42)"
      ]
    },
    {
      "cell_type": "code",
      "execution_count": 5,
      "metadata": {
        "colab": {
          "base_uri": "https://localhost:8080/",
          "height": 74
        },
        "id": "2maPmW3Dz4h-",
        "outputId": "8786dcda-2e8c-4414-89f0-69ef2e64639a"
      },
      "outputs": [
        {
          "output_type": "execute_result",
          "data": {
            "text/plain": [
              "SVC(probability=True, random_state=42)"
            ],
            "text/html": [
              "<style>#sk-container-id-1 {color: black;background-color: white;}#sk-container-id-1 pre{padding: 0;}#sk-container-id-1 div.sk-toggleable {background-color: white;}#sk-container-id-1 label.sk-toggleable__label {cursor: pointer;display: block;width: 100%;margin-bottom: 0;padding: 0.3em;box-sizing: border-box;text-align: center;}#sk-container-id-1 label.sk-toggleable__label-arrow:before {content: \"▸\";float: left;margin-right: 0.25em;color: #696969;}#sk-container-id-1 label.sk-toggleable__label-arrow:hover:before {color: black;}#sk-container-id-1 div.sk-estimator:hover label.sk-toggleable__label-arrow:before {color: black;}#sk-container-id-1 div.sk-toggleable__content {max-height: 0;max-width: 0;overflow: hidden;text-align: left;background-color: #f0f8ff;}#sk-container-id-1 div.sk-toggleable__content pre {margin: 0.2em;color: black;border-radius: 0.25em;background-color: #f0f8ff;}#sk-container-id-1 input.sk-toggleable__control:checked~div.sk-toggleable__content {max-height: 200px;max-width: 100%;overflow: auto;}#sk-container-id-1 input.sk-toggleable__control:checked~label.sk-toggleable__label-arrow:before {content: \"▾\";}#sk-container-id-1 div.sk-estimator input.sk-toggleable__control:checked~label.sk-toggleable__label {background-color: #d4ebff;}#sk-container-id-1 div.sk-label input.sk-toggleable__control:checked~label.sk-toggleable__label {background-color: #d4ebff;}#sk-container-id-1 input.sk-hidden--visually {border: 0;clip: rect(1px 1px 1px 1px);clip: rect(1px, 1px, 1px, 1px);height: 1px;margin: -1px;overflow: hidden;padding: 0;position: absolute;width: 1px;}#sk-container-id-1 div.sk-estimator {font-family: monospace;background-color: #f0f8ff;border: 1px dotted black;border-radius: 0.25em;box-sizing: border-box;margin-bottom: 0.5em;}#sk-container-id-1 div.sk-estimator:hover {background-color: #d4ebff;}#sk-container-id-1 div.sk-parallel-item::after {content: \"\";width: 100%;border-bottom: 1px solid gray;flex-grow: 1;}#sk-container-id-1 div.sk-label:hover label.sk-toggleable__label {background-color: #d4ebff;}#sk-container-id-1 div.sk-serial::before {content: \"\";position: absolute;border-left: 1px solid gray;box-sizing: border-box;top: 0;bottom: 0;left: 50%;z-index: 0;}#sk-container-id-1 div.sk-serial {display: flex;flex-direction: column;align-items: center;background-color: white;padding-right: 0.2em;padding-left: 0.2em;position: relative;}#sk-container-id-1 div.sk-item {position: relative;z-index: 1;}#sk-container-id-1 div.sk-parallel {display: flex;align-items: stretch;justify-content: center;background-color: white;position: relative;}#sk-container-id-1 div.sk-item::before, #sk-container-id-1 div.sk-parallel-item::before {content: \"\";position: absolute;border-left: 1px solid gray;box-sizing: border-box;top: 0;bottom: 0;left: 50%;z-index: -1;}#sk-container-id-1 div.sk-parallel-item {display: flex;flex-direction: column;z-index: 1;position: relative;background-color: white;}#sk-container-id-1 div.sk-parallel-item:first-child::after {align-self: flex-end;width: 50%;}#sk-container-id-1 div.sk-parallel-item:last-child::after {align-self: flex-start;width: 50%;}#sk-container-id-1 div.sk-parallel-item:only-child::after {width: 0;}#sk-container-id-1 div.sk-dashed-wrapped {border: 1px dashed gray;margin: 0 0.4em 0.5em 0.4em;box-sizing: border-box;padding-bottom: 0.4em;background-color: white;}#sk-container-id-1 div.sk-label label {font-family: monospace;font-weight: bold;display: inline-block;line-height: 1.2em;}#sk-container-id-1 div.sk-label-container {text-align: center;}#sk-container-id-1 div.sk-container {/* jupyter's `normalize.less` sets `[hidden] { display: none; }` but bootstrap.min.css set `[hidden] { display: none !important; }` so we also need the `!important` here to be able to override the default hidden behavior on the sphinx rendered scikit-learn.org. See: https://github.com/scikit-learn/scikit-learn/issues/21755 */display: inline-block !important;position: relative;}#sk-container-id-1 div.sk-text-repr-fallback {display: none;}</style><div id=\"sk-container-id-1\" class=\"sk-top-container\"><div class=\"sk-text-repr-fallback\"><pre>SVC(probability=True, random_state=42)</pre><b>In a Jupyter environment, please rerun this cell to show the HTML representation or trust the notebook. <br />On GitHub, the HTML representation is unable to render, please try loading this page with nbviewer.org.</b></div><div class=\"sk-container\" hidden><div class=\"sk-item\"><div class=\"sk-estimator sk-toggleable\"><input class=\"sk-toggleable__control sk-hidden--visually\" id=\"sk-estimator-id-1\" type=\"checkbox\" checked><label for=\"sk-estimator-id-1\" class=\"sk-toggleable__label sk-toggleable__label-arrow\">SVC</label><div class=\"sk-toggleable__content\"><pre>SVC(probability=True, random_state=42)</pre></div></div></div></div></div>"
            ]
          },
          "metadata": {},
          "execution_count": 5
        }
      ],
      "source": [
        "\n",
        "# Train classifiers\n",
        "rf_clf.fit(X_train, y_train)\n",
        "et_clf.fit(X_train, y_train)\n",
        "svm_clf.fit(X_train, y_train)\n"
      ]
    },
    {
      "cell_type": "code",
      "execution_count": 6,
      "metadata": {
        "id": "aeRH2uvt0Wkc",
        "colab": {
          "base_uri": "https://localhost:8080/"
        },
        "outputId": "b883022c-35f3-4914-c19a-0d0772bd73bb"
      },
      "outputs": [
        {
          "output_type": "stream",
          "name": "stdout",
          "text": [
            "RandomForestClassifier accuracy on validation set: 0.9692\n",
            "ExtraTreesClassifier accuracy on validation set: 0.9715\n",
            "SVC accuracy on validation set: 0.9788\n"
          ]
        }
      ],
      "source": [
        "# Evaluate individual classifiers on validation set\n",
        "for clf in (rf_clf, et_clf, svm_clf):\n",
        "    y_pred = clf.predict(X_val)\n",
        "    accuracy = accuracy_score(y_val, y_pred)\n",
        "    print(f\"{clf.__class__.__name__} accuracy on validation set: {accuracy:.4f}\")\n"
      ]
    },
    {
      "cell_type": "code",
      "execution_count": 7,
      "metadata": {
        "id": "pPFH3TrIxPOY",
        "colab": {
          "base_uri": "https://localhost:8080/"
        },
        "outputId": "092d4498-b0b0-44e9-9f69-a2f9d27dd2c5"
      },
      "outputs": [
        {
          "output_type": "stream",
          "name": "stdout",
          "text": [
            "Voting Classifier accuracy on validation set: 0.9744\n",
            "Voting Classifier accuracy on test set: 0.9713\n"
          ]
        }
      ],
      "source": [
        "# Create a voting ensemble\n",
        "voting_clf = VotingClassifier(\n",
        "    estimators=[('rf', rf_clf), ('et', et_clf), ('svm', svm_clf)],\n",
        "    voting='hard'\n",
        ")\n",
        "\n",
        "# Train the voting classifier on the training set\n",
        "voting_clf.fit(X_train, y_train)\n",
        "\n",
        "# Evaluate the voting classifier on the validation set\n",
        "y_pred_voting = voting_clf.predict(X_val)\n",
        "accuracy_voting = accuracy_score(y_val, y_pred_voting)\n",
        "print(f\"Voting Classifier accuracy on validation set: {accuracy_voting:.4f}\")\n",
        "\n",
        "# Evaluate on the test set\n",
        "y_pred_test = voting_clf.predict(X_test)\n",
        "accuracy_test = accuracy_score(y_test, y_pred_test)\n",
        "print(f\"Voting Classifier accuracy on test set: {accuracy_test:.4f}\")\n"
      ]
    },
    {
      "cell_type": "code",
      "execution_count": null,
      "metadata": {
        "id": "ElA6qsJ611cu"
      },
      "outputs": [],
      "source": []
    },
    {
      "cell_type": "markdown",
      "metadata": {
        "id": "8K5j80W211xI"
      },
      "source": [
        "**4**"
      ]
    },
    {
      "cell_type": "code",
      "execution_count": 8,
      "metadata": {
        "id": "_s7Ywdoo12TT",
        "colab": {
          "base_uri": "https://localhost:8080/"
        },
        "outputId": "ed3d4a7c-fc5c-4eb4-83b6-f1e497c630ed"
      },
      "outputs": [
        {
          "output_type": "stream",
          "name": "stdout",
          "text": [
            "Stacking Ensemble accuracy on test set: 0.9706\n"
          ]
        }
      ],
      "source": [
        "# Already trained the model\n",
        "# Now, Here Generating the  predictions on validation set\n",
        "rf_pred_val = rf_clf.predict(X_val)\n",
        "et_pred_val = et_clf.predict(X_val)\n",
        "svm_pred_val = svm_clf.predict(X_val)\n",
        "\n",
        "# Creating a new training set with the predictions\n",
        "X_val_predictions = np.column_stack((rf_pred_val, et_pred_val, svm_pred_val))\n",
        "\n",
        "# Now Using the predictions as features to train the blender\n",
        "blender = RandomForestClassifier(n_estimators=100, random_state=42)\n",
        "blender.fit(X_val_predictions, y_val)\n",
        "\n",
        "# Now, make predictions on the test set using the individual classifiers\n",
        "rf_pred_test = rf_clf.predict(X_test)\n",
        "et_pred_test = et_clf.predict(X_test)\n",
        "svm_pred_test = svm_clf.predict(X_test)\n",
        "\n",
        "# Creating a test set with predictions\n",
        "X_test_predictions = np.column_stack((rf_pred_test, et_pred_test, svm_pred_test))\n",
        "\n",
        "# Using the blender to get ensemble predictions\n",
        "ensemble_pred_test = blender.predict(X_test_predictions)\n",
        "\n",
        "# Evaluating the ensemble on the test set\n",
        "accuracy_ensemble = accuracy_score(y_test, ensemble_pred_test)\n",
        "print(f\"Stacking Ensemble accuracy on test set: {accuracy_ensemble:.4f}\")\n"
      ]
    },
    {
      "cell_type": "code",
      "source": [],
      "metadata": {
        "id": "DHLrQpAknKL-"
      },
      "execution_count": null,
      "outputs": []
    }
  ],
  "metadata": {
    "accelerator": "GPU",
    "colab": {
      "provenance": []
    },
    "kernelspec": {
      "display_name": "Python 3",
      "name": "python3"
    },
    "language_info": {
      "name": "python"
    }
  },
  "nbformat": 4,
  "nbformat_minor": 0
}